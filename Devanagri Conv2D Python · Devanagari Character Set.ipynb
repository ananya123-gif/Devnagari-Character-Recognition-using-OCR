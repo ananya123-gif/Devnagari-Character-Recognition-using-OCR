{
 "cells": [
  {
   "cell_type": "code",
   "execution_count": 1,
   "id": "ef03e177",
   "metadata": {},
   "outputs": [],
   "source": [
    "import numpy as np\n",
    "import pandas as pd\n",
    "\n",
    "from sklearn.metrics import confusion_matrix\n",
    "from sklearn.model_selection import train_test_split\n",
    "from sklearn.preprocessing import StandardScaler, OneHotEncoder, LabelBinarizer\n",
    "from sklearn.compose import make_column_transformer, make_column_selector\n",
    "\n",
    "import itertools\n",
    "\n",
    "import tensorflow as tf\n",
    "from tensorflow import keras\n",
    "from keras import models\n",
    "from keras import layers\n",
    "from keras.models import Sequential\n",
    "from keras.layers import Dense, Dropout, Flatten\n",
    "from keras.callbacks import EarlyStopping\n",
    "from keras.layers.convolutional import Conv2D\n",
    "from keras.layers.convolutional import MaxPooling2D\n",
    "from keras.utils import np_utils\n",
    "\n",
    "import seaborn as sns\n",
    "import matplotlib.pyplot as plt"
   ]
  },
  {
   "cell_type": "code",
   "execution_count": 2,
   "id": "37c9aea5",
   "metadata": {},
   "outputs": [],
   "source": [
    "train = pd.read_csv(\"data.csv\")"
   ]
  },
  {
   "cell_type": "code",
   "execution_count": 3,
   "id": "5af373ed",
   "metadata": {},
   "outputs": [
    {
     "data": {
      "text/html": [
       "<div>\n",
       "<style scoped>\n",
       "    .dataframe tbody tr th:only-of-type {\n",
       "        vertical-align: middle;\n",
       "    }\n",
       "\n",
       "    .dataframe tbody tr th {\n",
       "        vertical-align: top;\n",
       "    }\n",
       "\n",
       "    .dataframe thead th {\n",
       "        text-align: right;\n",
       "    }\n",
       "</style>\n",
       "<table border=\"1\" class=\"dataframe\">\n",
       "  <thead>\n",
       "    <tr style=\"text-align: right;\">\n",
       "      <th></th>\n",
       "      <th>pixel_0000</th>\n",
       "      <th>pixel_0001</th>\n",
       "      <th>pixel_0002</th>\n",
       "      <th>pixel_0003</th>\n",
       "      <th>pixel_0004</th>\n",
       "      <th>pixel_0005</th>\n",
       "      <th>pixel_0006</th>\n",
       "      <th>pixel_0007</th>\n",
       "      <th>pixel_0008</th>\n",
       "      <th>pixel_0009</th>\n",
       "      <th>...</th>\n",
       "      <th>pixel_1015</th>\n",
       "      <th>pixel_1016</th>\n",
       "      <th>pixel_1017</th>\n",
       "      <th>pixel_1018</th>\n",
       "      <th>pixel_1019</th>\n",
       "      <th>pixel_1020</th>\n",
       "      <th>pixel_1021</th>\n",
       "      <th>pixel_1022</th>\n",
       "      <th>pixel_1023</th>\n",
       "      <th>character</th>\n",
       "    </tr>\n",
       "  </thead>\n",
       "  <tbody>\n",
       "    <tr>\n",
       "      <th>0</th>\n",
       "      <td>0</td>\n",
       "      <td>0</td>\n",
       "      <td>0</td>\n",
       "      <td>0</td>\n",
       "      <td>0</td>\n",
       "      <td>0</td>\n",
       "      <td>0</td>\n",
       "      <td>0</td>\n",
       "      <td>0</td>\n",
       "      <td>0</td>\n",
       "      <td>...</td>\n",
       "      <td>0</td>\n",
       "      <td>0</td>\n",
       "      <td>0</td>\n",
       "      <td>0</td>\n",
       "      <td>0</td>\n",
       "      <td>0</td>\n",
       "      <td>0</td>\n",
       "      <td>0</td>\n",
       "      <td>0</td>\n",
       "      <td>character_01_ka</td>\n",
       "    </tr>\n",
       "    <tr>\n",
       "      <th>1</th>\n",
       "      <td>0</td>\n",
       "      <td>0</td>\n",
       "      <td>0</td>\n",
       "      <td>0</td>\n",
       "      <td>0</td>\n",
       "      <td>0</td>\n",
       "      <td>0</td>\n",
       "      <td>0</td>\n",
       "      <td>0</td>\n",
       "      <td>0</td>\n",
       "      <td>...</td>\n",
       "      <td>0</td>\n",
       "      <td>0</td>\n",
       "      <td>0</td>\n",
       "      <td>0</td>\n",
       "      <td>0</td>\n",
       "      <td>0</td>\n",
       "      <td>0</td>\n",
       "      <td>0</td>\n",
       "      <td>0</td>\n",
       "      <td>character_01_ka</td>\n",
       "    </tr>\n",
       "    <tr>\n",
       "      <th>2</th>\n",
       "      <td>0</td>\n",
       "      <td>0</td>\n",
       "      <td>0</td>\n",
       "      <td>0</td>\n",
       "      <td>0</td>\n",
       "      <td>0</td>\n",
       "      <td>0</td>\n",
       "      <td>0</td>\n",
       "      <td>0</td>\n",
       "      <td>0</td>\n",
       "      <td>...</td>\n",
       "      <td>0</td>\n",
       "      <td>0</td>\n",
       "      <td>0</td>\n",
       "      <td>0</td>\n",
       "      <td>0</td>\n",
       "      <td>0</td>\n",
       "      <td>0</td>\n",
       "      <td>0</td>\n",
       "      <td>0</td>\n",
       "      <td>character_01_ka</td>\n",
       "    </tr>\n",
       "    <tr>\n",
       "      <th>3</th>\n",
       "      <td>0</td>\n",
       "      <td>0</td>\n",
       "      <td>0</td>\n",
       "      <td>0</td>\n",
       "      <td>0</td>\n",
       "      <td>0</td>\n",
       "      <td>0</td>\n",
       "      <td>0</td>\n",
       "      <td>0</td>\n",
       "      <td>0</td>\n",
       "      <td>...</td>\n",
       "      <td>0</td>\n",
       "      <td>0</td>\n",
       "      <td>0</td>\n",
       "      <td>0</td>\n",
       "      <td>0</td>\n",
       "      <td>0</td>\n",
       "      <td>0</td>\n",
       "      <td>0</td>\n",
       "      <td>0</td>\n",
       "      <td>character_01_ka</td>\n",
       "    </tr>\n",
       "    <tr>\n",
       "      <th>4</th>\n",
       "      <td>0</td>\n",
       "      <td>0</td>\n",
       "      <td>0</td>\n",
       "      <td>0</td>\n",
       "      <td>0</td>\n",
       "      <td>0</td>\n",
       "      <td>0</td>\n",
       "      <td>0</td>\n",
       "      <td>0</td>\n",
       "      <td>0</td>\n",
       "      <td>...</td>\n",
       "      <td>0</td>\n",
       "      <td>0</td>\n",
       "      <td>0</td>\n",
       "      <td>0</td>\n",
       "      <td>0</td>\n",
       "      <td>0</td>\n",
       "      <td>0</td>\n",
       "      <td>0</td>\n",
       "      <td>0</td>\n",
       "      <td>character_01_ka</td>\n",
       "    </tr>\n",
       "  </tbody>\n",
       "</table>\n",
       "<p>5 rows × 1025 columns</p>\n",
       "</div>"
      ],
      "text/plain": [
       "   pixel_0000  pixel_0001  pixel_0002  pixel_0003  pixel_0004  pixel_0005  \\\n",
       "0           0           0           0           0           0           0   \n",
       "1           0           0           0           0           0           0   \n",
       "2           0           0           0           0           0           0   \n",
       "3           0           0           0           0           0           0   \n",
       "4           0           0           0           0           0           0   \n",
       "\n",
       "   pixel_0006  pixel_0007  pixel_0008  pixel_0009  ...  pixel_1015  \\\n",
       "0           0           0           0           0  ...           0   \n",
       "1           0           0           0           0  ...           0   \n",
       "2           0           0           0           0  ...           0   \n",
       "3           0           0           0           0  ...           0   \n",
       "4           0           0           0           0  ...           0   \n",
       "\n",
       "   pixel_1016  pixel_1017  pixel_1018  pixel_1019  pixel_1020  pixel_1021  \\\n",
       "0           0           0           0           0           0           0   \n",
       "1           0           0           0           0           0           0   \n",
       "2           0           0           0           0           0           0   \n",
       "3           0           0           0           0           0           0   \n",
       "4           0           0           0           0           0           0   \n",
       "\n",
       "   pixel_1022  pixel_1023        character  \n",
       "0           0           0  character_01_ka  \n",
       "1           0           0  character_01_ka  \n",
       "2           0           0  character_01_ka  \n",
       "3           0           0  character_01_ka  \n",
       "4           0           0  character_01_ka  \n",
       "\n",
       "[5 rows x 1025 columns]"
      ]
     },
     "execution_count": 3,
     "metadata": {},
     "output_type": "execute_result"
    }
   ],
   "source": [
    "train.head()"
   ]
  },
  {
   "cell_type": "code",
   "execution_count": 4,
   "id": "c056a1e0",
   "metadata": {},
   "outputs": [],
   "source": [
    "X = train.drop(\"character\", axis=1)\n",
    "y0 = train[\"character\"]"
   ]
  },
  {
   "cell_type": "code",
   "execution_count": 5,
   "id": "be8cfb8e",
   "metadata": {},
   "outputs": [
    {
     "name": "stdout",
     "output_type": "stream",
     "text": [
      "['character_01_ka' 'character_02_kha' 'character_03_ga' 'character_04_gha'\n",
      " 'character_05_kna' 'character_06_cha' 'character_07_chha'\n",
      " 'character_08_ja' 'character_09_jha' 'character_10_yna'\n",
      " 'character_11_taamatar' 'character_12_thaa' 'character_13_daa'\n",
      " 'character_14_dhaa' 'character_15_adna' 'character_16_tabala'\n",
      " 'character_17_tha' 'character_18_da' 'character_19_dha' 'character_20_na'\n",
      " 'character_21_pa' 'character_22_pha' 'character_23_ba' 'character_24_bha'\n",
      " 'character_25_ma' 'character_26_yaw' 'character_27_ra' 'character_28_la'\n",
      " 'character_29_waw' 'character_30_motosaw' 'character_31_petchiryakha'\n",
      " 'character_32_patalosaw' 'character_33_ha' 'character_34_chhya'\n",
      " 'character_35_tra' 'character_36_gya' 'digit_0' 'digit_1' 'digit_2'\n",
      " 'digit_3' 'digit_4' 'digit_5' 'digit_6' 'digit_7' 'digit_8' 'digit_9']\n",
      "46\n"
     ]
    }
   ],
   "source": [
    "print(y0.unique())\n",
    "print(len(y0.unique()))"
   ]
  },
  {
   "cell_type": "code",
   "execution_count": 6,
   "id": "dc391ed5",
   "metadata": {},
   "outputs": [
    {
     "data": {
      "text/plain": [
       "array([[1, 0, 0, ..., 0, 0, 0],\n",
       "       [1, 0, 0, ..., 0, 0, 0],\n",
       "       [1, 0, 0, ..., 0, 0, 0],\n",
       "       ...,\n",
       "       [0, 0, 0, ..., 0, 0, 1],\n",
       "       [0, 0, 0, ..., 0, 0, 1],\n",
       "       [0, 0, 0, ..., 0, 0, 1]])"
      ]
     },
     "execution_count": 6,
     "metadata": {},
     "output_type": "execute_result"
    }
   ],
   "source": [
    "binencoder = LabelBinarizer()\n",
    "y = binencoder.fit_transform(y0)\n",
    "y"
   ]
  },
  {
   "cell_type": "code",
   "execution_count": 7,
   "id": "eab5ea73",
   "metadata": {},
   "outputs": [
    {
     "name": "stdout",
     "output_type": "stream",
     "text": [
      "(92000, 1024)\n",
      "(73600, 1024)\n",
      "(18400, 1024)\n",
      "(73600, 46)\n",
      "(18400, 46)\n"
     ]
    }
   ],
   "source": [
    "x_train,x_test,y_train,y_test = train_test_split(X,y,test_size=0.2,random_state=90)\n",
    "\n",
    "x_train = x_train/255\n",
    "x_test = x_test/255\n",
    "\n",
    "print(X.shape)\n",
    "print(x_train.shape)\n",
    "print(x_test.shape)\n",
    "print(y_train.shape)\n",
    "print(y_test.shape)"
   ]
  },
  {
   "cell_type": "code",
   "execution_count": 8,
   "id": "f6c804a0",
   "metadata": {},
   "outputs": [
    {
     "name": "stdout",
     "output_type": "stream",
     "text": [
      "(92000, 1024)\n",
      "(73600, 32, 32, 1)\n",
      "(18400, 32, 32, 1)\n",
      "(73600, 46)\n",
      "(18400, 46)\n"
     ]
    }
   ],
   "source": [
    "re_x_train = x_train.values.reshape(-1, 32, 32, 1)\n",
    "re_x_test = x_test.values.reshape(-1, 32, 32, 1)\n",
    "\n",
    "print(X.shape)\n",
    "print(re_x_train.shape)\n",
    "print(re_x_test.shape)\n",
    "print(y_train.shape)\n",
    "print(y_test.shape)"
   ]
  },
  {
   "cell_type": "code",
   "execution_count": 9,
   "id": "28b2ac09",
   "metadata": {},
   "outputs": [],
   "source": [
    "model = Sequential()\n",
    "\n",
    "model.add(Conv2D(32,(4,4),input_shape = (32,32,1),activation = 'relu'))\n",
    "model.add(MaxPooling2D(pool_size=(2,2)))\n",
    "\n",
    "model.add(Conv2D(64,(3,3),activation = 'relu'))\n",
    "model.add(MaxPooling2D(pool_size=(2,2)))\n",
    "model.add(Dropout(0.2))\n",
    "\n",
    "model.add(Flatten())\n",
    "model.add(Dense(128,activation='relu'))\n",
    "model.add(Dense(46, activation='softmax'))"
   ]
  },
  {
   "cell_type": "code",
   "execution_count": 10,
   "id": "4c859825",
   "metadata": {},
   "outputs": [
    {
     "name": "stdout",
     "output_type": "stream",
     "text": [
      "Model: \"sequential\"\n",
      "_________________________________________________________________\n",
      " Layer (type)                Output Shape              Param #   \n",
      "=================================================================\n",
      " conv2d (Conv2D)             (None, 29, 29, 32)        544       \n",
      "                                                                 \n",
      " max_pooling2d (MaxPooling2D  (None, 14, 14, 32)       0         \n",
      " )                                                               \n",
      "                                                                 \n",
      " conv2d_1 (Conv2D)           (None, 12, 12, 64)        18496     \n",
      "                                                                 \n",
      " max_pooling2d_1 (MaxPooling  (None, 6, 6, 64)         0         \n",
      " 2D)                                                             \n",
      "                                                                 \n",
      " dropout (Dropout)           (None, 6, 6, 64)          0         \n",
      "                                                                 \n",
      " flatten (Flatten)           (None, 2304)              0         \n",
      "                                                                 \n",
      " dense (Dense)               (None, 128)               295040    \n",
      "                                                                 \n",
      " dense_1 (Dense)             (None, 46)                5934      \n",
      "                                                                 \n",
      "=================================================================\n",
      "Total params: 320,014\n",
      "Trainable params: 320,014\n",
      "Non-trainable params: 0\n",
      "_________________________________________________________________\n"
     ]
    }
   ],
   "source": [
    "model.summary()"
   ]
  },
  {
   "cell_type": "code",
   "execution_count": 11,
   "id": "cbab97eb",
   "metadata": {},
   "outputs": [
    {
     "name": "stdout",
     "output_type": "stream",
     "text": [
      "(73600, 32, 32, 1)\n",
      "(18400, 32, 32, 1)\n",
      "(73600, 46)\n",
      "(18400, 46)\n"
     ]
    }
   ],
   "source": [
    "model.compile(loss='categorical_crossentropy', optimizer='adam', metrics=['accuracy'])\n",
    "print(re_x_train.shape)\n",
    "print(re_x_test.shape)\n",
    "print(y_train.shape)\n",
    "print(y_test.shape)"
   ]
  },
  {
   "cell_type": "code",
   "execution_count": 12,
   "id": "a98dd442",
   "metadata": {},
   "outputs": [
    {
     "name": "stdout",
     "output_type": "stream",
     "text": [
      "Epoch 1/20\n",
      "7360/7360 - 179s - loss: 0.4781 - accuracy: 0.8608 - val_loss: 0.1828 - val_accuracy: 0.9444 - 179s/epoch - 24ms/step\n",
      "Epoch 2/20\n",
      "7360/7360 - 179s - loss: 0.1588 - accuracy: 0.9505 - val_loss: 0.1344 - val_accuracy: 0.9585 - 179s/epoch - 24ms/step\n",
      "Epoch 3/20\n",
      "7360/7360 - 104s - loss: 0.1049 - accuracy: 0.9664 - val_loss: 0.1128 - val_accuracy: 0.9671 - 104s/epoch - 14ms/step\n",
      "Epoch 4/20\n",
      "7360/7360 - 116s - loss: 0.0777 - accuracy: 0.9753 - val_loss: 0.1171 - val_accuracy: 0.9682 - 116s/epoch - 16ms/step\n",
      "Epoch 5/20\n",
      "7360/7360 - 117s - loss: 0.0633 - accuracy: 0.9795 - val_loss: 0.1015 - val_accuracy: 0.9734 - 117s/epoch - 16ms/step\n",
      "Epoch 6/20\n",
      "7360/7360 - 105s - loss: 0.0552 - accuracy: 0.9819 - val_loss: 0.1247 - val_accuracy: 0.9696 - 105s/epoch - 14ms/step\n",
      "Epoch 7/20\n",
      "7360/7360 - 106s - loss: 0.0492 - accuracy: 0.9841 - val_loss: 0.0966 - val_accuracy: 0.9766 - 106s/epoch - 14ms/step\n",
      "Epoch 8/20\n",
      "7360/7360 - 130s - loss: 0.0442 - accuracy: 0.9857 - val_loss: 0.1129 - val_accuracy: 0.9740 - 130s/epoch - 18ms/step\n",
      "Epoch 9/20\n",
      "7360/7360 - 125s - loss: 0.0394 - accuracy: 0.9879 - val_loss: 0.1264 - val_accuracy: 0.9694 - 125s/epoch - 17ms/step\n",
      "Epoch 10/20\n",
      "7360/7360 - 131s - loss: 0.0395 - accuracy: 0.9874 - val_loss: 0.1041 - val_accuracy: 0.9764 - 131s/epoch - 18ms/step\n",
      "Epoch 11/20\n",
      "7360/7360 - 141s - loss: 0.0348 - accuracy: 0.9889 - val_loss: 0.1411 - val_accuracy: 0.9731 - 141s/epoch - 19ms/step\n",
      "Epoch 12/20\n",
      "7360/7360 - 103s - loss: 0.0362 - accuracy: 0.9888 - val_loss: 0.0967 - val_accuracy: 0.9768 - 103s/epoch - 14ms/step\n",
      "Epoch 13/20\n",
      "7360/7360 - 102s - loss: 0.0345 - accuracy: 0.9900 - val_loss: 0.1110 - val_accuracy: 0.9751 - 102s/epoch - 14ms/step\n",
      "Epoch 14/20\n",
      "7360/7360 - 102s - loss: 0.0310 - accuracy: 0.9900 - val_loss: 0.1396 - val_accuracy: 0.9737 - 102s/epoch - 14ms/step\n",
      "Epoch 15/20\n",
      "7360/7360 - 109s - loss: 0.0294 - accuracy: 0.9913 - val_loss: 0.1304 - val_accuracy: 0.9778 - 109s/epoch - 15ms/step\n",
      "Epoch 16/20\n",
      "7360/7360 - 117s - loss: 0.0315 - accuracy: 0.9907 - val_loss: 0.1084 - val_accuracy: 0.9804 - 117s/epoch - 16ms/step\n",
      "Epoch 17/20\n",
      "7360/7360 - 111s - loss: 0.0301 - accuracy: 0.9920 - val_loss: 0.1058 - val_accuracy: 0.9795 - 111s/epoch - 15ms/step\n",
      "Epoch 18/20\n",
      "7360/7360 - 114s - loss: 0.0262 - accuracy: 0.9925 - val_loss: 0.1306 - val_accuracy: 0.9785 - 114s/epoch - 15ms/step\n",
      "Epoch 19/20\n",
      "7360/7360 - 118s - loss: 0.0273 - accuracy: 0.9925 - val_loss: 0.1581 - val_accuracy: 0.9746 - 118s/epoch - 16ms/step\n",
      "Epoch 20/20\n",
      "7360/7360 - 112s - loss: 0.0271 - accuracy: 0.9926 - val_loss: 0.1255 - val_accuracy: 0.9800 - 112s/epoch - 15ms/step\n"
     ]
    }
   ],
   "source": [
    "history = model.fit(re_x_train, y_train, validation_split=0.2, epochs=20, batch_size=8, verbose=2)"
   ]
  },
  {
   "cell_type": "code",
   "execution_count": 13,
   "id": "17062f0c",
   "metadata": {},
   "outputs": [
    {
     "data": {
      "text/plain": [
       "<AxesSubplot:>"
      ]
     },
     "execution_count": 13,
     "metadata": {},
     "output_type": "execute_result"
    },
    {
     "data": {
      "image/png": "[encoded data removed]",
      "text/plain": [
       "<Figure size 640x480 with 1 Axes>"
      ]
     },
     "metadata": {},
     "output_type": "display_data"
    }
   ],
   "source": [
    "history_df = pd.DataFrame(history.history)\n",
    "history_df.loc[:, ['loss', 'val_loss', 'accuracy', 'val_accuracy']].plot()"
   ]
  },
  {
   "cell_type": "code",
   "execution_count": 27,
   "id": "98eb4b1d",
   "metadata": {},
   "outputs": [
    {
     "data": {
      "image/png": "[encoded data removed]",
      "text/plain": [
       "<Figure size 640x480 with 1 Axes>"
      ]
     },
     "metadata": {},
     "output_type": "display_data"
    }
   ],
   "source": [
    "X_images = X.values.reshape((-1,32,32))\n",
    "\n",
    "plt.imshow(X_images[9855])\n",
    "plt.show()"
   ]
  },
  {
   "cell_type": "code",
   "execution_count": 29,
   "id": "70dbd1bc",
   "metadata": {},
   "outputs": [
    {
     "name": "stdout",
     "output_type": "stream",
     "text": [
      "1/1 [==============================] - 0s 37ms/step\n"
     ]
    },
    {
     "data": {
      "text/plain": [
       "'character_05_kna'"
      ]
     },
     "execution_count": 29,
     "metadata": {},
     "output_type": "execute_result"
    }
   ],
   "source": [
    "imgTrans = X_images[9855].reshape(1,32,32,1)\n",
    "predictions = model.predict(imgTrans)\n",
    "binencoder.classes_[np.argmax(predictions)]"
   ]
  },
  {
   "cell_type": "code",
   "execution_count": null,
   "id": "b4aeab98",
   "metadata": {},
   "outputs": [],
   "source": [
    "|"
   ]
  }
 ],
 "metadata": {
  "kernelspec": {
   "display_name": "Python 3 (ipykernel)",
   "language": "python",
   "name": "python3"
  },
  "language_info": {
   "codemirror_mode": {
    "name": "ipython",
    "version": 3
   },
   "file_extension": ".py",
   "mimetype": "text/x-python",
   "name": "python",
   "nbconvert_exporter": "python",
   "pygments_lexer": "ipython3",
   "version": "3.9.13"
  }
 },
 "nbformat": 4,
 "nbformat_minor": 5
}
